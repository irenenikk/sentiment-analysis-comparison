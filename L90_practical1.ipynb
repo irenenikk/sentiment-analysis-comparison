{
 "cells": [
  {
   "cell_type": "code",
   "execution_count": 212,
   "metadata": {},
   "outputs": [],
   "source": [
    "import os\n",
    "import pandas as pd\n",
    "import re\n",
    "import numpy as np\n",
    "from collections import defaultdict"
   ]
  },
  {
   "cell_type": "code",
   "execution_count": 12,
   "metadata": {},
   "outputs": [],
   "source": []
  },
  {
   "cell_type": "code",
   "execution_count": null,
   "metadata": {},
   "outputs": [],
   "source": []
  },
  {
   "cell_type": "code",
   "execution_count": 152,
   "metadata": {},
   "outputs": [],
   "source": [
    "def get_unigrams(data_folder, max_training_index):\n",
    "    training_data = pd.DataFrame()\n",
    "    test_data = pd.DataFrame()\n",
    "    sentiments = ['POS', 'NEG']\n",
    "    for sent in sentiments:\n",
    "        review_folder = f'{data_folder}/{sent}'\n",
    "        for file in os.listdir(review_folder):\n",
    "            new = pd.read_csv(os.path.join(review_folder, file), sep='\\t', header=None, names=['word', 'pos'])\n",
    "            new['sentiment'] = (1 if sent == sentiments[0] else -1)            \n",
    "            if int(file[2:5]) <= max_training_index:\n",
    "                training_data = training_data.append(new, sort=False)\n",
    "    return training_data"
   ]
  },
  {
   "cell_type": "code",
   "execution_count": 234,
   "metadata": {},
   "outputs": [
    {
     "data": {
      "text/html": [
       "<div>\n",
       "<style scoped>\n",
       "    .dataframe tbody tr th:only-of-type {\n",
       "        vertical-align: middle;\n",
       "    }\n",
       "\n",
       "    .dataframe tbody tr th {\n",
       "        vertical-align: top;\n",
       "    }\n",
       "\n",
       "    .dataframe thead th {\n",
       "        text-align: right;\n",
       "    }\n",
       "</style>\n",
       "<table border=\"1\" class=\"dataframe\">\n",
       "  <thead>\n",
       "    <tr style=\"text-align: right;\">\n",
       "      <th></th>\n",
       "      <th>word</th>\n",
       "      <th>pos</th>\n",
       "      <th>sentiment</th>\n",
       "    </tr>\n",
       "  </thead>\n",
       "  <tbody>\n",
       "    <tr>\n",
       "      <th>0</th>\n",
       "      <td>Though</td>\n",
       "      <td>IN</td>\n",
       "      <td>1</td>\n",
       "    </tr>\n",
       "    <tr>\n",
       "      <th>1</th>\n",
       "      <td>made</td>\n",
       "      <td>VBN</td>\n",
       "      <td>1</td>\n",
       "    </tr>\n",
       "    <tr>\n",
       "      <th>2</th>\n",
       "      <td>in</td>\n",
       "      <td>IN</td>\n",
       "      <td>1</td>\n",
       "    </tr>\n",
       "    <tr>\n",
       "      <th>3</th>\n",
       "      <td>Canada</td>\n",
       "      <td>NNP</td>\n",
       "      <td>1</td>\n",
       "    </tr>\n",
       "    <tr>\n",
       "      <th>4</th>\n",
       "      <td>,</td>\n",
       "      <td>,</td>\n",
       "      <td>1</td>\n",
       "    </tr>\n",
       "  </tbody>\n",
       "</table>\n",
       "</div>"
      ],
      "text/plain": [
       "     word  pos  sentiment\n",
       "0  Though   IN          1\n",
       "1    made  VBN          1\n",
       "2      in   IN          1\n",
       "3  Canada  NNP          1\n",
       "4       ,    ,          1"
      ]
     },
     "execution_count": 234,
     "metadata": {},
     "output_type": "execute_result"
    }
   ],
   "source": [
    "unigram_training = get_unigrams('data-tagged', 899)\n",
    "unigram_training.head()"
   ]
  },
  {
   "cell_type": "code",
   "execution_count": 149,
   "metadata": {},
   "outputs": [
    {
     "name": "stdout",
     "output_type": "stream",
     "text": [
      "The proportion of positive reviews: 0.5240155187221734\n"
     ]
    }
   ],
   "source": [
    "print('The proportion of positive reviews:', (unigram_training['sentiment'] == 1).sum()/len(unigram_training))"
   ]
  },
  {
   "cell_type": "code",
   "execution_count": 140,
   "metadata": {},
   "outputs": [],
   "source": [
    "unigram_pos = unigram_training[unigram_training['sentiment'] > 0]['word'].value_counts()\n",
    "unigram_neg = unigram_training[unigram_training['sentiment'] < 0]['word'].value_counts()\n",
    "unigram_pos = unigram_pos[unigram_pos >= 4]\n",
    "unigram_neg = unigram_neg[unigram_neg >= 4]"
   ]
  },
  {
   "cell_type": "code",
   "execution_count": 141,
   "metadata": {},
   "outputs": [],
   "source": [
    "unigram_pos = unigram_pos/sum(unigram_pos)\n",
    "unigram_neg = unigram_neg/sum(unigram_neg)"
   ]
  },
  {
   "cell_type": "code",
   "execution_count": 142,
   "metadata": {},
   "outputs": [
    {
     "data": {
      "text/plain": [
       ",             0.056183\n",
       "the           0.046551\n",
       ".             0.040455\n",
       "a             0.025588\n",
       "and           0.024817\n",
       "                ...   \n",
       "Terrance      0.000006\n",
       "transplant    0.000006\n",
       "66            0.000006\n",
       "Dr            0.000006\n",
       "landscapes    0.000006\n",
       "Name: word, Length: 12417, dtype: float64"
      ]
     },
     "execution_count": 142,
     "metadata": {},
     "output_type": "execute_result"
    }
   ],
   "source": [
    "unigram_pos"
   ]
  },
  {
   "cell_type": "code",
   "execution_count": 143,
   "metadata": {
    "scrolled": true
   },
   "outputs": [
    {
     "data": {
      "text/plain": [
       ",            0.052071\n",
       "the          0.043810\n",
       ".            0.042055\n",
       "a            0.025217\n",
       "to           0.022301\n",
       "               ...   \n",
       "concludes    0.000007\n",
       "codes        0.000007\n",
       "sentenced    0.000007\n",
       "Hamill       0.000007\n",
       "utilize      0.000007\n",
       "Name: word, Length: 11343, dtype: float64"
      ]
     },
     "execution_count": 143,
     "metadata": {},
     "output_type": "execute_result"
    }
   ],
   "source": [
    "unigram_neg"
   ]
  },
  {
   "cell_type": "code",
   "execution_count": null,
   "metadata": {},
   "outputs": [],
   "source": [
    "def find_bigrams(tokens, min_freq=7):\n",
    "    bigrams = defaultdict(int)\n",
    "    for i in range(1, len(tokens)-1):\n",
    "        bigram = f'{tokens[i-1]} {tokens[i]}'\n",
    "        bigrams[bigram] += 1\n",
    "    return {key : bigrams[key] for key in bigrams if bigrams[key] >= min_freq}"
   ]
  },
  {
   "cell_type": "code",
   "execution_count": 235,
   "metadata": {},
   "outputs": [],
   "source": [
    "def get_bigrams(review_folder, sentiment, max_training_index):\n",
    "    content = ''\n",
    "    review_folder = f'data/{sentiment}'\n",
    "    for file in os.listdir(review_folder):\n",
    "        if int(file[2:5]) <= max_training_index:\n",
    "            f = open(os.path.join(review_folder, file), 'r')\n",
    "            content += f.read()\n",
    "    # split from punctuation and whitespace\n",
    "    # then remove trailing whitespace\n",
    "    tokens = np.asarray(list(filter(None,(map(str.strip, re.split('(\\W)', content))))))\n",
    "    return find_bigrams(tokens)"
   ]
  },
  {
   "cell_type": "code",
   "execution_count": 236,
   "metadata": {},
   "outputs": [],
   "source": [
    "positive_bigrams = get_bigrams('data', 'POS', 899)\n",
    "negative_bigrams = get_bigrams('data', 'NEG', 899)"
   ]
  },
  {
   "cell_type": "code",
   "execution_count": 237,
   "metadata": {},
   "outputs": [
    {
     "ename": "TypeError",
     "evalue": "unsupported operand type(s) for /: 'dict' and 'int'",
     "output_type": "error",
     "traceback": [
      "\u001b[0;31m---------------------------------------------------------------------------\u001b[0m",
      "\u001b[0;31mTypeError\u001b[0m                                 Traceback (most recent call last)",
      "\u001b[0;32m<ipython-input-237-1bf1155d09c4>\u001b[0m in \u001b[0;36m<module>\u001b[0;34m\u001b[0m\n\u001b[0;32m----> 1\u001b[0;31m \u001b[0mpositive_bigrams\u001b[0m \u001b[0;34m=\u001b[0m \u001b[0mpositive_bigrams\u001b[0m\u001b[0;34m/\u001b[0m\u001b[0mlen\u001b[0m\u001b[0;34m(\u001b[0m\u001b[0mpositive_bigrams\u001b[0m\u001b[0;34m)\u001b[0m\u001b[0;34m\u001b[0m\u001b[0;34m\u001b[0m\u001b[0m\n\u001b[0m\u001b[1;32m      2\u001b[0m \u001b[0mnegative_bigrams\u001b[0m \u001b[0;34m=\u001b[0m \u001b[0mnegative_bigrams\u001b[0m\u001b[0;34m/\u001b[0m\u001b[0mlen\u001b[0m\u001b[0;34m(\u001b[0m\u001b[0mnegative_bigrams\u001b[0m\u001b[0;34m)\u001b[0m\u001b[0;34m\u001b[0m\u001b[0;34m\u001b[0m\u001b[0m\n",
      "\u001b[0;31mTypeError\u001b[0m: unsupported operand type(s) for /: 'dict' and 'int'"
     ]
    }
   ],
   "source": [
    "positive_bigrams = positive_bigrams/len(positive_bigrams)\n",
    "negative_bigrams = negative_bigrams/len(negative_bigrams)"
   ]
  },
  {
   "cell_type": "code",
   "execution_count": 221,
   "metadata": {},
   "outputs": [],
   "source": []
  },
  {
   "cell_type": "code",
   "execution_count": null,
   "metadata": {},
   "outputs": [],
   "source": []
  },
  {
   "cell_type": "code",
   "execution_count": null,
   "metadata": {},
   "outputs": [],
   "source": []
  }
 ],
 "metadata": {
  "kernelspec": {
   "display_name": "Python 3",
   "language": "python",
   "name": "python3"
  },
  "language_info": {
   "codemirror_mode": {
    "name": "ipython",
    "version": 3
   },
   "file_extension": ".py",
   "mimetype": "text/x-python",
   "name": "python",
   "nbconvert_exporter": "python",
   "pygments_lexer": "ipython3",
   "version": "3.7.3"
  }
 },
 "nbformat": 4,
 "nbformat_minor": 2
}
